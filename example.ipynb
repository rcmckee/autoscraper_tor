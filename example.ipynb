{
 "cells": [
  {
   "cell_type": "code",
   "execution_count": 1,
   "metadata": {},
   "outputs": [
    {
     "name": "stdout",
     "output_type": "stream",
     "text": [
      "Collecting autoscraper\n",
      "  Using cached autoscraper-1.1.14-py3-none-any.whl (10 kB)\n",
      "Requirement already satisfied: flask in /Users/rcm/opt/anaconda3/lib/python3.9/site-packages (1.0.2)\n",
      "Collecting flask\n",
      "  Downloading Flask-2.2.3-py3-none-any.whl (101 kB)\n",
      "\u001b[K     |████████████████████████████████| 101 kB 4.0 MB/s ta 0:00:01\n",
      "\u001b[?25hRequirement already satisfied: bs4 in /Users/rcm/opt/anaconda3/lib/python3.9/site-packages (from autoscraper) (0.0.1)\n",
      "Requirement already satisfied: requests in /Users/rcm/opt/anaconda3/lib/python3.9/site-packages (from autoscraper) (2.27.1)\n",
      "Requirement already satisfied: lxml in /Users/rcm/opt/anaconda3/lib/python3.9/site-packages (from autoscraper) (4.8.0)\n",
      "Requirement already satisfied: click>=8.0 in /Users/rcm/opt/anaconda3/lib/python3.9/site-packages (from flask) (8.1.3)\n",
      "Requirement already satisfied: Werkzeug>=2.2.2 in /Users/rcm/opt/anaconda3/lib/python3.9/site-packages (from flask) (2.2.2)\n",
      "Requirement already satisfied: Jinja2>=3.0 in /Users/rcm/opt/anaconda3/lib/python3.9/site-packages (from flask) (3.1.2)\n",
      "Requirement already satisfied: importlib-metadata>=3.6.0 in /Users/rcm/opt/anaconda3/lib/python3.9/site-packages (from flask) (4.13.0)\n",
      "Requirement already satisfied: itsdangerous>=2.0 in /Users/rcm/opt/anaconda3/lib/python3.9/site-packages (from flask) (2.1.2)\n",
      "Requirement already satisfied: zipp>=0.5 in /Users/rcm/opt/anaconda3/lib/python3.9/site-packages (from importlib-metadata>=3.6.0->flask) (3.7.0)\n",
      "Requirement already satisfied: MarkupSafe>=2.0 in /Users/rcm/opt/anaconda3/lib/python3.9/site-packages (from Jinja2>=3.0->flask) (2.1.1)\n",
      "Requirement already satisfied: beautifulsoup4 in /Users/rcm/opt/anaconda3/lib/python3.9/site-packages (from bs4->autoscraper) (4.11.1)\n",
      "Requirement already satisfied: soupsieve>1.2 in /Users/rcm/opt/anaconda3/lib/python3.9/site-packages (from beautifulsoup4->bs4->autoscraper) (2.3.1)\n",
      "Requirement already satisfied: urllib3<1.27,>=1.21.1 in /Users/rcm/opt/anaconda3/lib/python3.9/site-packages (from requests->autoscraper) (1.26.9)\n",
      "Requirement already satisfied: charset-normalizer~=2.0.0 in /Users/rcm/opt/anaconda3/lib/python3.9/site-packages (from requests->autoscraper) (2.0.4)\n",
      "Requirement already satisfied: idna<4,>=2.5 in /Users/rcm/opt/anaconda3/lib/python3.9/site-packages (from requests->autoscraper) (3.3)\n",
      "Requirement already satisfied: certifi>=2017.4.17 in /Users/rcm/opt/anaconda3/lib/python3.9/site-packages (from requests->autoscraper) (2021.10.8)\n",
      "Installing collected packages: flask, autoscraper\n",
      "  Attempting uninstall: flask\n",
      "    Found existing installation: Flask 1.0.2\n",
      "    Uninstalling Flask-1.0.2:\n",
      "      Successfully uninstalled Flask-1.0.2\n",
      "\u001b[31mERROR: pip's dependency resolver does not currently take into account all the packages that are installed. This behaviour is the source of the following dependency conflicts.\n",
      "dash 2.6.1 requires dash-core-components==2.0.0, which is not installed.\n",
      "dash 2.6.1 requires dash-html-components==2.0.0, which is not installed.\n",
      "dash 2.6.1 requires dash-table==5.0.0, which is not installed.\u001b[0m\n",
      "Successfully installed autoscraper-1.1.14 flask-2.2.3\n",
      "Note: you may need to restart the kernel to use updated packages.\n"
     ]
    }
   ],
   "source": [
    "pip install -U autoscraper flask"
   ]
  },
  {
   "cell_type": "code",
   "execution_count": 5,
   "metadata": {},
   "outputs": [],
   "source": [
    "# https://stackoverflow.com/a/48848035/4101406\n",
    "\n",
    "from autoscraper import AutoScraper\n",
    "import requests\n",
    "\n",
    "url = 'http://rnsm777cdsjrsdlbs4v5qoeppu3px6sb2igmh53jzrx7ipcrbjz5b2ad.onion/'\n",
    "wanted_list = ['REC Silicon', 'https://www.recsilicon.com', 'published: 2022-12-11', 'http://rnsm777cdsjrsdlbs4v5qoeppu3px6sb2igmh53jzrx7ipcrbjz5b2ad.onion/4912a2b1b4f875eb4dd411a554573010796532c2/']\n",
    "\n",
    "scraper = AutoScraper()\n",
    "\n",
    "torport = 9050\n",
    "proxies = {\n",
    "    'http': \"socks5h://localhost:{}\".format(torport),\n",
    "    'https': \"socks5h://localhost:{}\".format(torport)\n",
    "}\n",
    "result = scraper.build(url, wanted_list, request_args=dict(proxies=proxies))\n",
    "#result = scraper.build(url=url, wanted_list=wanted_list)pip install -U autoscraper flask"
   ]
  },
  {
   "cell_type": "code",
   "execution_count": 6,
   "metadata": {},
   "outputs": [
    {
     "name": "stdout",
     "output_type": "stream",
     "text": [
      "['REC Silicon', 'Unimed Belem', 'Consorci Sanitari Integral & Geseme', 'Ferrari', 'Bombardier Recreational Products (BRP) - SOURCE CODES', 'Fundo Nacional de Desenvolvimento da Educação', 'Bombardier Recreational Products (BRP) - BONUS CONTENT (!!!)', 'Bombardier Recreational Products (BRP)', 'Sonae', 'Stago', 'Scottish Association for Mental Health', 'Viva Air', 'POP TV', 'KCA Deutag', 'Hellmann Worldwide Logistics', 'UMW Group', 'Ruwac', 'Digicel Group', 'Unione dei Comuni Terre di Pianura', 'Unione Reno Galliera', 'https://www.recsilicon.com', 'https://www.unimedbelem.com.br', 'https://www.csi.cat', 'https://www.ferrari.com', 'http://www.brp.com', 'https://www.fnde.gov.br', 'https://mc.sonae.pt', 'https://www.stago.com', 'https://www.samh.org.uk', 'https://www.vivaair.com', 'https://www.24ur.com', 'https://www.kcadeutag.com', 'https://www.hellmann.net', 'https://www.umw.com.my', 'https://www.ruwac.de', 'https://www.digicelgroup.com', 'https://www.terredipianura.it', 'https://www.renogalliera.it', 'http://rnsm777cdsjrsdlbs4v5qoeppu3px6sb2igmh53jzrx7ipcrbjz5b2ad.onion/4912a2b1b4f875eb4dd411a554573010796532c2/', 'http://rnsm777cdsjrsdlbs4v5qoeppu3px6sb2igmh53jzrx7ipcrbjz5b2ad.onion/bf556546f62cfb3158f96e1746f6098acac0dff3/', 'http://rnsm777cdsjrsdlbs4v5qoeppu3px6sb2igmh53jzrx7ipcrbjz5b2ad.onion/2f939045a1871226d351d5df0aa9fc50ae8f41d7/', 'http://rnsm777cdsjrsdlbs4v5qoeppu3px6sb2igmh53jzrx7ipcrbjz5b2ad.onion/14902e9881109f26bfe4385ff6d68cfa9bad6769/', 'http://rnsm777cdsjrsdlbs4v5qoeppu3px6sb2igmh53jzrx7ipcrbjz5b2ad.onion/c33e53f16c5c012bd42b4ed0c66b4a21b95aeb41/', 'http://rnsm777cdsjrsdlbs4v5qoeppu3px6sb2igmh53jzrx7ipcrbjz5b2ad.onion/e0739189370cb967d7320f00a835411681448e47/', 'http://rnsm777cdsjrsdlbs4v5qoeppu3px6sb2igmh53jzrx7ipcrbjz5b2ad.onion/6380ed84a57bc2a7500916c1b1dd76c22ad10016/', 'http://rnsm777cdsjrsdlbs4v5qoeppu3px6sb2igmh53jzrx7ipcrbjz5b2ad.onion/fbdd586302e91143edff3e61495d8da1c87db545/', 'http://rnsm777cdsjrsdlbs4v5qoeppu3px6sb2igmh53jzrx7ipcrbjz5b2ad.onion/ee526856af750121cfae96e43ae125f9ba896910/', 'http://rnsm777cdsjrsdlbs4v5qoeppu3px6sb2igmh53jzrx7ipcrbjz5b2ad.onion/47e7dff6f575e4aaa950feb8e968d906fd1f7a51/', 'http://rnsm777cdsjrsdlbs4v5qoeppu3px6sb2igmh53jzrx7ipcrbjz5b2ad.onion/f74fd79bdeed5177207d1f40cae2abdf2a3ecec5/', 'http://rnsm777cdsjrsdlbs4v5qoeppu3px6sb2igmh53jzrx7ipcrbjz5b2ad.onion/1196ffc0b13415ee35d56342f76cf9bc1077ae93/', 'http://rnsm777cdsjrsdlbs4v5qoeppu3px6sb2igmh53jzrx7ipcrbjz5b2ad.onion/6fe6cfadfa22ad404ec45cad392012f4143cec7c/', 'http://rnsm777cdsjrsdlbs4v5qoeppu3px6sb2igmh53jzrx7ipcrbjz5b2ad.onion/b257fb81ae2c69e46de346bdbe53f81a9fc74b7b/', 'http://rnsm777cdsjrsdlbs4v5qoeppu3px6sb2igmh53jzrx7ipcrbjz5b2ad.onion/bd1029b05168289713d72474cc77006320a56a45/', 'http://rnsm777cdsjrsdlbs4v5qoeppu3px6sb2igmh53jzrx7ipcrbjz5b2ad.onion/9bdbcb833db8b4dbd583582dfcf38a642f788372/', 'http://rnsm777cdsjrsdlbs4v5qoeppu3px6sb2igmh53jzrx7ipcrbjz5b2ad.onion/39fe7b6fa85e6155eece1870532900bf5978f026/', 'http://rnsm777cdsjrsdlbs4v5qoeppu3px6sb2igmh53jzrx7ipcrbjz5b2ad.onion/16209c5f2127dc8fb7cef0ebd3b217adcc696d02/', 'http://rnsm777cdsjrsdlbs4v5qoeppu3px6sb2igmh53jzrx7ipcrbjz5b2ad.onion/186e775584e9deb077301f6a439592820140416b/', 'http://rnsm777cdsjrsdlbs4v5qoeppu3px6sb2igmh53jzrx7ipcrbjz5b2ad.onion/f8396912cf62435d63ae277feb2f13f413e153d2/']\n"
     ]
    }
   ],
   "source": [
    "print(result)"
   ]
  },
  {
   "cell_type": "code",
   "execution_count": 8,
   "metadata": {},
   "outputs": [
    {
     "data": {
      "text/plain": [
       "{'rule_cex9': ['REC Silicon',\n",
       "  'Unimed Belem',\n",
       "  'Consorci Sanitari Integral & Geseme',\n",
       "  'Ferrari',\n",
       "  'Bombardier Recreational Products (BRP) - SOURCE CODES',\n",
       "  'Fundo Nacional de Desenvolvimento da Educação',\n",
       "  'Bombardier Recreational Products (BRP) - BONUS CONTENT (!!!)',\n",
       "  'Bombardier Recreational Products (BRP)',\n",
       "  'Sonae',\n",
       "  'Stago',\n",
       "  'Scottish Association for Mental Health',\n",
       "  'Viva Air',\n",
       "  'POP TV',\n",
       "  'KCA Deutag',\n",
       "  'Hellmann Worldwide Logistics',\n",
       "  'UMW Group',\n",
       "  'Ruwac',\n",
       "  'Digicel Group',\n",
       "  'Unione dei Comuni Terre di Pianura',\n",
       "  'Unione Reno Galliera'],\n",
       " 'rule_3fmp': ['https://www.recsilicon.com',\n",
       "  'https://www.unimedbelem.com.br',\n",
       "  'https://www.csi.cat',\n",
       "  'https://www.ferrari.com',\n",
       "  'http://www.brp.com',\n",
       "  'https://www.fnde.gov.br',\n",
       "  'http://www.brp.com',\n",
       "  'http://www.brp.com',\n",
       "  'https://mc.sonae.pt',\n",
       "  'https://www.stago.com',\n",
       "  'https://www.samh.org.uk',\n",
       "  'https://www.vivaair.com',\n",
       "  'https://www.24ur.com',\n",
       "  'https://www.kcadeutag.com',\n",
       "  'https://www.hellmann.net',\n",
       "  'https://www.umw.com.my',\n",
       "  'https://www.ruwac.de',\n",
       "  'https://www.digicelgroup.com',\n",
       "  'https://www.terredipianura.it',\n",
       "  'https://www.renogalliera.it'],\n",
       " 'rule_fgwp': ['http://rnsm777cdsjrsdlbs4v5qoeppu3px6sb2igmh53jzrx7ipcrbjz5b2ad.onion/4912a2b1b4f875eb4dd411a554573010796532c2/',\n",
       "  'http://rnsm777cdsjrsdlbs4v5qoeppu3px6sb2igmh53jzrx7ipcrbjz5b2ad.onion/bf556546f62cfb3158f96e1746f6098acac0dff3/',\n",
       "  'http://rnsm777cdsjrsdlbs4v5qoeppu3px6sb2igmh53jzrx7ipcrbjz5b2ad.onion/2f939045a1871226d351d5df0aa9fc50ae8f41d7/',\n",
       "  'http://rnsm777cdsjrsdlbs4v5qoeppu3px6sb2igmh53jzrx7ipcrbjz5b2ad.onion/14902e9881109f26bfe4385ff6d68cfa9bad6769/',\n",
       "  'http://rnsm777cdsjrsdlbs4v5qoeppu3px6sb2igmh53jzrx7ipcrbjz5b2ad.onion/c33e53f16c5c012bd42b4ed0c66b4a21b95aeb41/',\n",
       "  'http://rnsm777cdsjrsdlbs4v5qoeppu3px6sb2igmh53jzrx7ipcrbjz5b2ad.onion/e0739189370cb967d7320f00a835411681448e47/',\n",
       "  'http://rnsm777cdsjrsdlbs4v5qoeppu3px6sb2igmh53jzrx7ipcrbjz5b2ad.onion/6380ed84a57bc2a7500916c1b1dd76c22ad10016/',\n",
       "  'http://rnsm777cdsjrsdlbs4v5qoeppu3px6sb2igmh53jzrx7ipcrbjz5b2ad.onion/fbdd586302e91143edff3e61495d8da1c87db545/',\n",
       "  'http://rnsm777cdsjrsdlbs4v5qoeppu3px6sb2igmh53jzrx7ipcrbjz5b2ad.onion/ee526856af750121cfae96e43ae125f9ba896910/',\n",
       "  'http://rnsm777cdsjrsdlbs4v5qoeppu3px6sb2igmh53jzrx7ipcrbjz5b2ad.onion/47e7dff6f575e4aaa950feb8e968d906fd1f7a51/',\n",
       "  'http://rnsm777cdsjrsdlbs4v5qoeppu3px6sb2igmh53jzrx7ipcrbjz5b2ad.onion/f74fd79bdeed5177207d1f40cae2abdf2a3ecec5/',\n",
       "  'http://rnsm777cdsjrsdlbs4v5qoeppu3px6sb2igmh53jzrx7ipcrbjz5b2ad.onion/1196ffc0b13415ee35d56342f76cf9bc1077ae93/',\n",
       "  'http://rnsm777cdsjrsdlbs4v5qoeppu3px6sb2igmh53jzrx7ipcrbjz5b2ad.onion/6fe6cfadfa22ad404ec45cad392012f4143cec7c/',\n",
       "  'http://rnsm777cdsjrsdlbs4v5qoeppu3px6sb2igmh53jzrx7ipcrbjz5b2ad.onion/b257fb81ae2c69e46de346bdbe53f81a9fc74b7b/',\n",
       "  'http://rnsm777cdsjrsdlbs4v5qoeppu3px6sb2igmh53jzrx7ipcrbjz5b2ad.onion/bd1029b05168289713d72474cc77006320a56a45/',\n",
       "  'http://rnsm777cdsjrsdlbs4v5qoeppu3px6sb2igmh53jzrx7ipcrbjz5b2ad.onion/9bdbcb833db8b4dbd583582dfcf38a642f788372/',\n",
       "  'http://rnsm777cdsjrsdlbs4v5qoeppu3px6sb2igmh53jzrx7ipcrbjz5b2ad.onion/39fe7b6fa85e6155eece1870532900bf5978f026/',\n",
       "  'http://rnsm777cdsjrsdlbs4v5qoeppu3px6sb2igmh53jzrx7ipcrbjz5b2ad.onion/16209c5f2127dc8fb7cef0ebd3b217adcc696d02/',\n",
       "  'http://rnsm777cdsjrsdlbs4v5qoeppu3px6sb2igmh53jzrx7ipcrbjz5b2ad.onion/186e775584e9deb077301f6a439592820140416b/',\n",
       "  'http://rnsm777cdsjrsdlbs4v5qoeppu3px6sb2igmh53jzrx7ipcrbjz5b2ad.onion/f8396912cf62435d63ae277feb2f13f413e153d2/']}"
      ]
     },
     "execution_count": 8,
     "metadata": {},
     "output_type": "execute_result"
    }
   ],
   "source": [
    "scraper.get_result_similar(url, grouped=True,request_args=dict(proxies=proxies))\n"
   ]
  }
 ],
 "metadata": {
  "kernelspec": {
   "display_name": "Python 3",
   "language": "python",
   "name": "python3"
  },
  "language_info": {
   "codemirror_mode": {
    "name": "ipython",
    "version": 3
   },
   "file_extension": ".py",
   "mimetype": "text/x-python",
   "name": "python",
   "nbconvert_exporter": "python",
   "pygments_lexer": "ipython3",
   "version": "3.9.12"
  },
  "orig_nbformat": 4,
  "vscode": {
   "interpreter": {
    "hash": "bc61b85e9ad37e76fc9e85a13e89d42beeaadee18a1dad13677e966b2af1e680"
   }
  }
 },
 "nbformat": 4,
 "nbformat_minor": 2
}
